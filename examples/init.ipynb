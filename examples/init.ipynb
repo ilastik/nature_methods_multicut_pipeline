{
 "cells": [
  {
   "cell_type": "markdown",
   "metadata": {},
   "source": [
    "# Init\n",
    "\n",
    "Initialize the dataset used for the experiments.\n",
    "Idea behind the caching mechanism: \n",
    "\n",
    "The class *MetaSet* holds instances of the class *DataSet*, which implement all functionality to acces cached features, groundtruth, etc.\n",
    "\n",
    "Most of this is cached properly (i.e. when you call a function the first time, the calculation is done, then the cache is loaded). \n",
    "\n",
    "However there are some functions which are implemented differently: \n",
    "For these there is a *add* or *make* function and a *get* function, where the first makes the calculation and generates the cache and the second loads the cache. \n",
    "\n",
    "Specifically, this is the case for:\n",
    "\n",
    "* Input Volumes: Make cache: *add_raw*, *add_input*, Get cache: *inp*\n",
    "* Oversegmentations: Make cache: *add_seg*, Get cahce: *seg*\n",
    "* Groundtruth: Make cache: *add_gt*, Get cache: *gt*\n",
    "* Cutouts: Make cache: *make_cutout*, Get cache: *get_cutout*\n",
    "* Inverse Cutouts: Make cache: *make_inverse_cutout*, Get cahce: *get_inverse_cutout*\n",
    "* Tesselations: Make cache: *make_tesselation*, Get cache: *get_tesselation*\n",
    "\n",
    "If you want to make one of these objects after the initialisation, you have to once call:\n",
    "\n",
    "ds.make_something()\n",
    "\n",
    "meta.update_dataset(ds.ds_name, ds)\n",
    "\n",
    "meta.save()\n",
    "\n",
    "See the *train_test_split* notebook for an example, where two cutouts are added.\n",
    "\n",
    "You can obtain the data for this example from \n",
    "https://www.dropbox.com/s/lddsbulvi82x902/neurocut_examples.tar.gz?dl=0\n",
    "or use your own."
   ]
  },
  {
   "cell_type": "code",
   "execution_count": 1,
   "metadata": {
    "collapsed": false
   },
   "outputs": [],
   "source": [
    "# we will need numpy and vigra somewhere\n",
    "import numpy as np\n",
    "import vigra\n",
    "from neurocut import MetaSet, DataSet, multicut_from_rf_gt, MCParams\n",
    "# imports from Neurocut\n",
    "#from MetaSet import MetaSet\n",
    "#from DataSet import DataSet\n",
    "#from MCSolver import multicut_from_rf_gt, MCParams\n",
    "\n",
    "# initialize the MetaSet, that holds all datasets for experiments\n",
    "# folder for saving the cache\n",
    "#cache_folder = \"/path/to/cache\"\n",
    "cache_folder = \"/home/consti/Work/data_master/cache_neurocut/cache_examples\"\n",
    "meta = MetaSet(cache_folder)"
   ]
  },
  {
   "cell_type": "code",
   "execution_count": 2,
   "metadata": {
    "collapsed": true
   },
   "outputs": [],
   "source": [
    "# initialize the dataset \n",
    "# you should only call this once,\n",
    "# otherwise the cache is calculated again\n",
    "\n",
    "# Dataset for the tests \n",
    "dataset = DataSet(cache_folder, \"dataset\")\n",
    "\n",
    "# path to the raw data\n",
    "#raw_path = \"/path/to/neurocut_examples/raw_data.h5\"\n",
    "raw_path = \"/home/consti/Work/data_master/sopnetcompare/neurocut_examples/raw_data.h5\"\n",
    "raw_key  = \"data\"\n",
    "# add the raw data to the dataset,\n",
    "# once we have done it, it is cached and can be called with dataset.inp(0)\n",
    "dataset.add_raw(raw_path, raw_key)\n",
    "\n",
    "# path to the probability map\n",
    "#probs_path = \"/path/to/neurocut_examples/probability_map.h5\"\n",
    "probs_path = \"/home/consti/Work/data_master/sopnetcompare/neurocut_examples/probability_map.h5\"\n",
    "probs_key  = \"data\"\n",
    "# can be called with dataset.inp(1)\n",
    "dataset.add_input(probs_path, probs_key)\n",
    "\n",
    "# path to the superpixels\n",
    "#seg_paht = \"/path/to/neurocut_examples/oversegmentation.h5\"\n",
    "seg_path = \"/home/consti/Work/data_master/sopnetcompare/neurocut_examples/oversegmentation.h5\"\n",
    "seg_key  = \"superpixel\"\n",
    "# can be called with dataset.seg(0)\n",
    "dataset.add_seg(seg_path, seg_key)\n",
    "\n",
    "# path to the groundtruth\n",
    "#gt_path = \"/path/to/neurocut_examples/groundtruth.h5\"\n",
    "gt_path = \"/home/consti/Work/data_master/sopnetcompare/neurocut_examples/groundtruth.h5\"\n",
    "gt_key  = \"gt\"\n",
    "# can be called with dataset.gt()\n",
    "dataset.add_gt(gt_path, gt_key)\n",
    "\n",
    "meta.add_dataset(\"dataset\", dataset)\n",
    "meta.save()"
   ]
  },
  {
   "cell_type": "code",
   "execution_count": null,
   "metadata": {
    "collapsed": true
   },
   "outputs": [],
   "source": []
  }
 ],
 "metadata": {
  "kernelspec": {
   "display_name": "Python 2",
   "language": "python",
   "name": "python2"
  },
  "language_info": {
   "codemirror_mode": {
    "name": "ipython",
    "version": 2
   },
   "file_extension": ".py",
   "mimetype": "text/x-python",
   "name": "python",
   "nbconvert_exporter": "python",
   "pygments_lexer": "ipython2",
   "version": "2.7.11"
  }
 },
 "nbformat": 4,
 "nbformat_minor": 0
}
