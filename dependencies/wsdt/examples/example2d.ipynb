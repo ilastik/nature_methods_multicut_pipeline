{
 "cells": [
  {
   "cell_type": "markdown",
   "metadata": {},
   "source": [
    "# Example for 2d Watershed Distance Trafo\n",
    "\n",
    "Example for the watershed distance transform applied to a 3d probability map for each slice.\n",
    "You can obtain the example probability map from:\n",
    "https://www.dropbox.com/s/lddsbulvi82x902/neurocut_examples.tar.gz?dl=0\n",
    "\n",
    "Note that this is anisotropic data, so this procedure is mote suited\n",
    "than a 3d watershed distance transform (see example3d).\n",
    "Feel free, to try this on your own data. \n",
    "However you may need to tweak some parameters\n",
    "to get the best results."
   ]
  },
  {
   "cell_type": "code",
   "execution_count": 1,
   "metadata": {
    "collapsed": false
   },
   "outputs": [],
   "source": [
    "import numpy as np\n",
    "import vigra\n",
    "\n",
    "from wsDtSegmentation import wsDtSegmentation"
   ]
  },
  {
   "cell_type": "code",
   "execution_count": 11,
   "metadata": {
    "collapsed": false
   },
   "outputs": [],
   "source": [
    "# 2d distance transform superpixel for the probability maps\n",
    "pmap_path = \"/path/to/neurocut_examples/probability_map.h5\"\n",
    "pmap_key  = \"data\"\n",
    "pmaps = vigra.readHDF5(pmap_path, pmap_key)\n",
    "\n",
    "# parameters for the watershed on distance trafo\n",
    "\n",
    "# threshold for computing the distance trafo\n",
    "threshold = 0.5\n",
    "# minimal size of connected components that are taken into account\n",
    "# for the distance trafo\n",
    "min_mem = 50\n",
    "# minimal size of segments in the result\n",
    "min_seg = 75 \n",
    "# sigma for smoothing the seed map\n",
    "sig_seeds = 1.6\n",
    "# sigma for smoothing the weight map\n",
    "sig_weights = 2.0\n",
    "\n",
    "segmentation = np.zeros_like(pmaps, dtype = np.uint32)\n",
    "# we need an offset for each slice, because we need distinct ids in each slice\n",
    "offset = 0\n",
    "# iterate over the z-slices and perform the wsdt in each\n",
    "for z in xrange(segmentation.shape[2]):\n",
    "    segmentation[:,:,z] = wsDtSegmentation(\n",
    "        pmaps[:,:,z], threshold,\n",
    "        min_mem, min_seg,\n",
    "        sig_seeds, sig_weights)\n",
    "    # add the offset\n",
    "    segmentation[:,:,z] += offset\n",
    "    # get the new offset\n",
    "    offset = np.max(segmentation)\n",
    "\n",
    "# save the result\n",
    "save_path = \"/path/to/neurocut_examples/oversegmentation.h5\"\n",
    "save_key  = \"superpixel\"\n",
    "\n",
    "vigra.writeHDF5(segmentation, save_path, save_key)"
   ]
  },
  {
   "cell_type": "code",
   "execution_count": null,
   "metadata": {
    "collapsed": true
   },
   "outputs": [],
   "source": []
  }
 ],
 "metadata": {
  "kernelspec": {
   "display_name": "Python 2",
   "language": "python",
   "name": "python2"
  },
  "language_info": {
   "codemirror_mode": {
    "name": "ipython",
    "version": 2
   },
   "file_extension": ".py",
   "mimetype": "text/x-python",
   "name": "python",
   "nbconvert_exporter": "python",
   "pygments_lexer": "ipython2",
   "version": "2.7.6"
  }
 },
 "nbformat": 4,
 "nbformat_minor": 0
}
